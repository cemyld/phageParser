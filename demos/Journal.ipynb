{
 "cells": [
  {
   "cell_type": "code",
   "execution_count": 2,
   "metadata": {
    "collapsed": true
   },
   "outputs": [],
   "source": [
    "import requests\n",
    "import json\n",
    "import numpy as np\n",
    "import random\n",
    "import matplotlib.pyplot as plt\n",
    "from matplotlib import mlab\n",
    "import seaborn as sns\n",
    "import pandas as pd\n",
    "from scipy import stats\n",
    "sns.set_palette(\"husl\")\n",
    "%matplotlib inline"
   ]
  },
  {
   "cell_type": "code",
   "execution_count": 3,
   "metadata": {},
   "outputs": [],
   "source": [
    "#Url of the phageParser API\n",
    "apiurl = 'http://127.0.0.1:8000'\n",
    "#Get the initial page for listing of accessible objects and get url for organisms and casproteins\n",
    "url_json=requests.get(apiurl).json()\n",
    "organisms_url = url_json['organisms']\n",
    "cas_proteins_url = url_json['casproteins']"
   ]
  },
  {
   "cell_type": "code",
   "execution_count": 4,
   "metadata": {
    "collapsed": true
   },
   "outputs": [],
   "source": [
    "#Iterate through each page and merge the json response into a dictionary for cas proteins\n",
    "cas_protein_dict = {}\n",
    "r=requests.get(cas_proteins_url)\n",
    "last_page = r.json()['meta']['total_pages']\n",
    "for page in range(1,last_page+1):\n",
    "    url = cas_proteins_url+'?page={}'.format(page)\n",
    "    payload = requests.get(url).json()\n",
    "    cas_protein_objs = payload['cas_proteins']\n",
    "    for cas_protein_obj in cas_protein_objs:\n",
    "        cas_protein_dict[cas_protein_obj['id']] = cas_protein_obj"
   ]
  },
  {
   "cell_type": "code",
   "execution_count": 5,
   "metadata": {
    "collapsed": true
   },
   "outputs": [],
   "source": [
    "#Iterate through each page and merge the json response into a dictionary for organisms\n",
    "organism_dict = {}\n",
    "r=requests.get(organisms_url)\n",
    "last_page = r.json()['meta']['total_pages']\n",
    "for page in range(1,last_page+1):\n",
    "    url = organisms_url+'?page={}&include[]=cas_proteins&include[]=loci.spacers'.format(page)\n",
    "    payload = requests.get(url).json()\n",
    "    organism_objs = payload['organisms']\n",
    "    for organism_obj in organism_objs:\n",
    "        organism_dict[organism_obj['id']] = organism_obj"
   ]
  },
  {
   "cell_type": "code",
   "execution_count": 6,
   "metadata": {
    "collapsed": true
   },
   "outputs": [],
   "source": [
    "#Make a set of specific cas proteins by grouping them from gene field\n",
    "cas3_proteins = {k: v for k, v in cas_protein_dict.items() if 'cas3' in v['gene']}\n",
    "cas9_proteins = {k: v for k, v in cas_protein_dict.items() if 'cas9' in v['gene']}\n",
    "cas10_proteins = {k: v for k, v in cas_protein_dict.items() if 'cas10' in v['gene']}"
   ]
  },
  {
   "cell_type": "code",
   "execution_count": 32,
   "metadata": {
    "collapsed": true
   },
   "outputs": [],
   "source": [
    "#Convert dictionary to dataframe with added annotations\n",
    "org_df={}\n",
    "loc_df={}\n",
    "for k,v in organism_dict.items():\n",
    "    org = {'accession':v['accession'], 'name':v['name'], 'CRISPR_type':'','single_spacer':False}\n",
    "    if v['cas_proteins']:\n",
    "        org_proteins = set(v['cas_proteins'])\n",
    "        if not org_proteins.isdisjoint(cas3_proteins): #has cas3 proteins\n",
    "            org['CRISPR_type'] += 'Type I'\n",
    "        if not org_proteins.isdisjoint(cas9_proteins): #has cas9 proteins\n",
    "            org['CRISPR_type'] += 'Type II'\n",
    "        if not org_proteins.isdisjoint(cas10_proteins): #has cas10 proteins\n",
    "            org['CRISPR_type'] += 'Type III'\n",
    "    if v['loci']:\n",
    "        if all([len(loc['spacers']) < 2 for loc in v['loci']]):\n",
    "            org['single_spacer'] = True\n",
    "    for locus in v['loci']:\n",
    "        loc = {'org_id':k, 'num_spacers':len(locus['spacers'])}\n",
    "        spacerlens = [spacer['length'] for spacer in locus['spacers']]\n",
    "        avg_spacerlens = sum(spacerlens)/len(spacerlens)\n",
    "        loc['avg_spacerlens'] = avg_spacerlens\n",
    "        loc_df[locus['id']] = loc\n",
    "    org_df[k] = org\n",
    "loc_df = pd.DataFrame.from_dict(loc_df, orient='index')\n",
    "org_df = pd.DataFrame.from_dict(org_df, orient='index')"
   ]
  },
  {
   "cell_type": "code",
   "execution_count": 51,
   "metadata": {},
   "outputs": [],
   "source": [
    "a=loc_df[loc_df['num_spacers'] == 1].copy()"
   ]
  },
  {
   "cell_type": "code",
   "execution_count": 19,
   "metadata": {},
   "outputs": [
    {
     "data": {
      "text/html": [
       "<div>\n",
       "<style>\n",
       "    .dataframe thead tr:only-child th {\n",
       "        text-align: right;\n",
       "    }\n",
       "\n",
       "    .dataframe thead th {\n",
       "        text-align: left;\n",
       "    }\n",
       "\n",
       "    .dataframe tbody tr th {\n",
       "        vertical-align: top;\n",
       "    }\n",
       "</style>\n",
       "<table border=\"1\" class=\"dataframe\">\n",
       "  <thead>\n",
       "    <tr style=\"text-align: right;\">\n",
       "      <th></th>\n",
       "      <th>accession</th>\n",
       "      <th>name</th>\n",
       "      <th>CRISPR_type</th>\n",
       "      <th>single_spacer</th>\n",
       "    </tr>\n",
       "  </thead>\n",
       "  <tbody>\n",
       "    <tr>\n",
       "      <th>1</th>\n",
       "      <td>NZ_LT632614</td>\n",
       "      <td>Legionella pneumophila</td>\n",
       "      <td>Type IType II</td>\n",
       "      <td>False</td>\n",
       "    </tr>\n",
       "    <tr>\n",
       "      <th>2</th>\n",
       "      <td>NC_014206</td>\n",
       "      <td>Geobacillus sp. C56-T3</td>\n",
       "      <td>Type IType III</td>\n",
       "      <td>False</td>\n",
       "    </tr>\n",
       "    <tr>\n",
       "      <th>3</th>\n",
       "      <td>NZ_CP013216</td>\n",
       "      <td>Streptococcus salivarius</td>\n",
       "      <td>Type IType III</td>\n",
       "      <td>False</td>\n",
       "    </tr>\n",
       "    <tr>\n",
       "      <th>4</th>\n",
       "      <td>NC_020411</td>\n",
       "      <td>Hydrogenobaculum sp. HO</td>\n",
       "      <td>Type IType III</td>\n",
       "      <td>False</td>\n",
       "    </tr>\n",
       "    <tr>\n",
       "      <th>5</th>\n",
       "      <td>NC_010337</td>\n",
       "      <td>Heliobacterium modesticaldum Ice1</td>\n",
       "      <td>Type IType II</td>\n",
       "      <td>False</td>\n",
       "    </tr>\n",
       "  </tbody>\n",
       "</table>\n",
       "</div>"
      ],
      "text/plain": [
       "     accession                               name     CRISPR_type  \\\n",
       "1  NZ_LT632614             Legionella pneumophila   Type IType II   \n",
       "2    NC_014206             Geobacillus sp. C56-T3  Type IType III   \n",
       "3  NZ_CP013216           Streptococcus salivarius  Type IType III   \n",
       "4    NC_020411            Hydrogenobaculum sp. HO  Type IType III   \n",
       "5    NC_010337  Heliobacterium modesticaldum Ice1   Type IType II   \n",
       "\n",
       "   single_spacer  \n",
       "1          False  \n",
       "2          False  \n",
       "3          False  \n",
       "4          False  \n",
       "5          False  "
      ]
     },
     "execution_count": 19,
     "metadata": {},
     "output_type": "execute_result"
    }
   ],
   "source": [
    "org_df.head()"
   ]
  },
  {
   "cell_type": "code",
   "execution_count": 52,
   "metadata": {},
   "outputs": [],
   "source": [
    "a['single_spacer_organism'] = list(org_df.iloc[a.org_id].single_spacer)"
   ]
  },
  {
   "cell_type": "code",
   "execution_count": 57,
   "metadata": {},
   "outputs": [
    {
     "data": {
      "text/plain": [
       "5.29595015576324"
      ]
     },
     "execution_count": 57,
     "metadata": {},
     "output_type": "execute_result"
    }
   ],
   "source": [
    "len(a[a['single_spacer_organism']  == True])/len(a)*100"
   ]
  },
  {
   "cell_type": "code",
   "execution_count": 58,
   "metadata": {},
   "outputs": [
    {
     "data": {
      "text/plain": [
       "94.70404984423676"
      ]
     },
     "execution_count": 58,
     "metadata": {},
     "output_type": "execute_result"
    }
   ],
   "source": [
    "len(a[a['single_spacer_organism'] == False])/len(a)*100"
   ]
  },
  {
   "cell_type": "code",
   "execution_count": 48,
   "metadata": {},
   "outputs": [
    {
     "data": {
      "text/plain": [
       "963"
      ]
     },
     "execution_count": 48,
     "metadata": {},
     "output_type": "execute_result"
    }
   ],
   "source": [
    "len(a)"
   ]
  },
  {
   "cell_type": "code",
   "execution_count": null,
   "metadata": {
    "collapsed": true
   },
   "outputs": [],
   "source": []
  }
 ],
 "metadata": {
  "kernelspec": {
   "display_name": "Python 3",
   "language": "python",
   "name": "python3"
  },
  "language_info": {
   "codemirror_mode": {
    "name": "ipython",
    "version": 3
   },
   "file_extension": ".py",
   "mimetype": "text/x-python",
   "name": "python",
   "nbconvert_exporter": "python",
   "pygments_lexer": "ipython3",
   "version": "3.6.0"
  }
 },
 "nbformat": 4,
 "nbformat_minor": 2
}
